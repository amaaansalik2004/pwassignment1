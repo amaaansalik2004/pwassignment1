{
 "cells": [
  {
   "cell_type": "markdown",
   "id": "ca0290e6-759d-4345-8645-224717ba5109",
   "metadata": {},
   "source": [
    "Q1. Write all the conventions being followed while declaring a variable.\n",
    "\n",
    "ans. 1. Variable should not begin with integer.\n",
    "     2. Variable cannot contain space.\n",
    "     3. It should not be reserved words in python.\n",
    "     4. It cannot contain punctuation marks.\n",
    "     5. It begin with either an alphabet or underscore."
   ]
  },
  {
   "cell_type": "markdown",
   "id": "e882e78e-6d80-4a93-b095-28a54f57e7e6",
   "metadata": {},
   "source": [
    "Q2. What will happen if we declare a restricted keyword as a variable?\n",
    "\n",
    "ans. It will give syntaxerror."
   ]
  },
  {
   "cell_type": "markdown",
   "id": "96fe410f-1070-4205-9d8c-e2be0a4f0e00",
   "metadata": {},
   "source": [
    "Q3. Can we actually declare a string as a variable name?\n",
    "\n",
    "ans. Yes, we declare a string as a variable name but it begin with either an alphabet or underscore."
   ]
  },
  {
   "cell_type": "markdown",
   "id": "8e6b2f44-2071-45cb-b095-201ee6d9ee11",
   "metadata": {},
   "source": [
    "Q4. Is it possible for us to declare \"_\" as a variable ? If so, then write an example of it.\n",
    "\n",
    "ans. Yes, it is possible for us to declare \"_\" as a variable. For example - "
   ]
  },
  {
   "cell_type": "code",
   "execution_count": 1,
   "id": "6db52b23-14d8-4915-832d-75b0ac194e17",
   "metadata": {},
   "outputs": [
    {
     "name": "stdout",
     "output_type": "stream",
     "text": [
      "4\n"
     ]
    }
   ],
   "source": [
    "_ = 4\n",
    "print(_)"
   ]
  },
  {
   "cell_type": "markdown",
   "id": "527596fc-aafd-4419-ac7b-753046080be1",
   "metadata": {},
   "source": [
    "Q5. Using an example, explain how the variables in python are dynamic in nature."
   ]
  },
  {
   "cell_type": "code",
   "execution_count": 2,
   "id": "58b1abd2-b1cc-46a7-81e3-f25affbfe42c",
   "metadata": {},
   "outputs": [
    {
     "name": "stdout",
     "output_type": "stream",
     "text": [
      "20\n"
     ]
    }
   ],
   "source": [
    "x = 20\n",
    "print(x)"
   ]
  },
  {
   "cell_type": "code",
   "execution_count": 3,
   "id": "ff107e41-574b-40b5-be91-f413a8256cea",
   "metadata": {},
   "outputs": [
    {
     "name": "stdout",
     "output_type": "stream",
     "text": [
      "30\n"
     ]
    }
   ],
   "source": [
    "x = 30\n",
    "print(x)"
   ]
  },
  {
   "cell_type": "code",
   "execution_count": null,
   "id": "8960967c-ef06-4509-9272-0c03e0224f46",
   "metadata": {},
   "outputs": [],
   "source": [
    "ans. Above example, we see that we assign 20 to x and in second code we assign 30 to x. So variable in python are dynamic in nature."
   ]
  }
 ],
 "metadata": {
  "kernelspec": {
   "display_name": "Python 3 (ipykernel)",
   "language": "python",
   "name": "python3"
  },
  "language_info": {
   "codemirror_mode": {
    "name": "ipython",
    "version": 3
   },
   "file_extension": ".py",
   "mimetype": "text/x-python",
   "name": "python",
   "nbconvert_exporter": "python",
   "pygments_lexer": "ipython3",
   "version": "3.10.8"
  }
 },
 "nbformat": 4,
 "nbformat_minor": 5
}
